{
 "cells": [
  {
   "cell_type": "code",
   "execution_count": 50,
   "metadata": {},
   "outputs": [],
   "source": [
    "# For system stuff\n",
    "import os\n",
    "import sys\n",
    "module_path = os.path.abspath(os.path.join('..'))\n",
    "if module_path not in sys.path:\n",
    "    sys.path.append(module_path)"
   ]
  },
  {
   "cell_type": "code",
   "execution_count": 51,
   "metadata": {},
   "outputs": [],
   "source": [
    "# Imports\n",
    "from die import Die\n",
    "import random\n",
    "import csv"
   ]
  },
  {
   "cell_type": "code",
   "execution_count": 52,
   "metadata": {},
   "outputs": [],
   "source": [
    "# Weighted and unweighted dice\n",
    "weightedDie1 = Die(\n",
    "    weighted=True,\n",
    "    weightedSide=1,\n",
    "    weightedProb=0.3\n",
    ")\n",
    "weightedDie2 = Die(\n",
    "    weighted=True,\n",
    "    weightedSide=2,\n",
    "    weightedProb=0.3\n",
    ")\n",
    "weightedDie3 = Die(\n",
    "    weighted=True,\n",
    "    weightedSide=3,\n",
    "    weightedProb=0.3\n",
    ")\n",
    "weightedDie4 = Die(\n",
    "    weighted=True,\n",
    "    weightedSide=4,\n",
    "    weightedProb=0.3\n",
    ")\n",
    "weightedDie5 = Die(\n",
    "    weighted=True,\n",
    "    weightedSide=5,\n",
    "    weightedProb=0.3\n",
    ")\n",
    "weightedDie6 = Die(\n",
    "    weighted=True,\n",
    "    weightedSide=6,\n",
    "    weightedProb=0.3\n",
    ")\n",
    "fairDie = Die()\n",
    "diceArray = [fairDie, fairDie, fairDie, fairDie, fairDie, fairDie, weightedDie1, weightedDie2, weightedDie3, weightedDie4, weightedDie5, weightedDie6]"
   ]
  },
  {
   "cell_type": "code",
   "execution_count": 53,
   "metadata": {},
   "outputs": [],
   "source": [
    "# Constants for data generation\n",
    "numData = 100000\n",
    "numRolls = random.randint(50, 200)\n",
    "path = \"data.csv\""
   ]
  },
  {
   "cell_type": "code",
   "execution_count": 54,
   "metadata": {},
   "outputs": [],
   "source": [
    "with open(path, 'a', newline='') as csvfile:\n",
    "    writer = csv.writer(csvfile)\n",
    "    writer.writerow([\"Ones\", \"Twos\", \"Threes\", \"Fours\", \"Fives\", \"Sixes\", \"Weighted?\"]) # Header\n",
    "\n",
    "# Loop to generate data\n",
    "for i in range(numData):\n",
    "    # Randomly select a die\n",
    "    randIndex = random.randint(0, len(diceArray) - 1)\n",
    "    row = [0 for n in range(6)]\n",
    "\n",
    "    # Roll die numRolls times\n",
    "    for j in range(numRolls):\n",
    "        num = diceArray[randIndex].roll()\n",
    "        row[num - 1] += 1\n",
    "    \n",
    "    # Normalize the data\n",
    "    for j in range(len(row)):\n",
    "        row[j] /= numRolls\n",
    "\n",
    "    row.append(diceArray[randIndex].weighted) # Add weighted status to end of list\n",
    "\n",
    "    # Write data to csv\n",
    "    with open(path, 'a', newline='') as csvfile:\n",
    "        writer = csv.writer(csvfile)\n",
    "        writer.writerow(row)\n",
    "    \n",
    "    numRolls = random.randint(50, 200) # Randomize number of rolls\n",
    "\n",
    "    if diceArray[randIndex].weighted: # If die is weighted, change weighted probability\n",
    "        diceArray[randIndex].weightedProb = random.uniform(0.3, 0.4)"
   ]
  }
 ],
 "metadata": {
  "kernelspec": {
   "display_name": "Python 3.7.6 ('base')",
   "language": "python",
   "name": "python3"
  },
  "language_info": {
   "codemirror_mode": {
    "name": "ipython",
    "version": 3
   },
   "file_extension": ".py",
   "mimetype": "text/x-python",
   "name": "python",
   "nbconvert_exporter": "python",
   "pygments_lexer": "ipython3",
   "version": "3.7.6"
  },
  "orig_nbformat": 4,
  "vscode": {
   "interpreter": {
    "hash": "721da669b77ca3171901af6ae2a4f95725476038a3f743aa970a702d30959d80"
   }
  }
 },
 "nbformat": 4,
 "nbformat_minor": 2
}
