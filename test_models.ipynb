{
 "cells": [
  {
   "cell_type": "code",
   "execution_count": 1,
   "metadata": {},
   "outputs": [],
   "source": [
    "# For system stuff\n",
    "import os\n",
    "import sys\n",
    "module_path = os.path.abspath(os.path.join('..'))\n",
    "if module_path not in sys.path:\n",
    "    sys.path.append(module_path)"
   ]
  },
  {
   "cell_type": "code",
   "execution_count": 2,
   "metadata": {},
   "outputs": [],
   "source": [
    "# Load models\n",
    "import joblib\n",
    "from tensorflow import keras\n",
    "\n",
    "treeModel = joblib.load('treeModel.pkl')\n",
    "lrModel = joblib.load('lrModel.pkl')\n",
    "nnModel = keras.models.load_model('nnModel.h5')"
   ]
  },
  {
   "cell_type": "code",
   "execution_count": 3,
   "metadata": {},
   "outputs": [],
   "source": [
    "# Define dice\n",
    "from die import Die\n",
    "\n",
    "die1 = Die( # Weighted\n",
    "    weighted=True,\n",
    "    weightedSide=6,\n",
    "    weightedProb=0.3\n",
    ")\n",
    "die2 = Die( # Weighted\n",
    "    weighted=True,\n",
    "    weightedSide=2,\n",
    "    weightedProb=0.5\n",
    ")\n",
    "die3 = Die( # Weighted\n",
    "    weighted=True,\n",
    "    weightedSide=5,\n",
    "    weightedProb=0.4\n",
    ")\n",
    "die4 = Die() # Unweighted"
   ]
  },
  {
   "cell_type": "code",
   "execution_count": 47,
   "metadata": {},
   "outputs": [],
   "source": [
    "# Rolling dice function\n",
    "import numpy as np\n",
    "\n",
    "numRolls = 1000\n",
    "\n",
    "def rollDice(die):\n",
    "    freqs = row = [0 for n in range(6)] # Track frequencies of each side\n",
    "    for i in range(numRolls):\n",
    "        freqs[die.roll()-1] += 1\n",
    "    \n",
    "    for i in range(len(freqs)):\n",
    "        freqs[i] /= numRolls\n",
    "    \n",
    "    return np.array(freqs).reshape(1, -1)"
   ]
  },
  {
   "cell_type": "code",
   "execution_count": 48,
   "metadata": {},
   "outputs": [],
   "source": [
    "# Roll the die\n",
    "freq1 = rollDice(die1)\n",
    "freq2 = rollDice(die2)\n",
    "freq3 = rollDice(die3)\n",
    "freq4 = rollDice(die4)"
   ]
  },
  {
   "cell_type": "code",
   "execution_count": 49,
   "metadata": {},
   "outputs": [
    {
     "name": "stdout",
     "output_type": "stream",
     "text": [
      "1/1 [==============================] - 0s 23ms/step\n",
      "1/1 [==============================] - 0s 24ms/step\n",
      "1/1 [==============================] - ETA: 0s"
     ]
    },
    {
     "name": "stderr",
     "output_type": "stream",
     "text": [
      "c:\\Users\\whxia\\AppData\\Local\\Programs\\Python\\Python38\\lib\\site-packages\\sklearn\\base.py:450: UserWarning: X does not have valid feature names, but DecisionTreeClassifier was fitted with feature names\n",
      "  warnings.warn(\n",
      "c:\\Users\\whxia\\AppData\\Local\\Programs\\Python\\Python38\\lib\\site-packages\\sklearn\\base.py:450: UserWarning: X does not have valid feature names, but DecisionTreeClassifier was fitted with feature names\n",
      "  warnings.warn(\n",
      "c:\\Users\\whxia\\AppData\\Local\\Programs\\Python\\Python38\\lib\\site-packages\\sklearn\\base.py:450: UserWarning: X does not have valid feature names, but DecisionTreeClassifier was fitted with feature names\n",
      "  warnings.warn(\n",
      "c:\\Users\\whxia\\AppData\\Local\\Programs\\Python\\Python38\\lib\\site-packages\\sklearn\\base.py:450: UserWarning: X does not have valid feature names, but DecisionTreeClassifier was fitted with feature names\n",
      "  warnings.warn(\n",
      "c:\\Users\\whxia\\AppData\\Local\\Programs\\Python\\Python38\\lib\\site-packages\\sklearn\\base.py:450: UserWarning: X does not have valid feature names, but LogisticRegression was fitted with feature names\n",
      "  warnings.warn(\n",
      "c:\\Users\\whxia\\AppData\\Local\\Programs\\Python\\Python38\\lib\\site-packages\\sklearn\\base.py:450: UserWarning: X does not have valid feature names, but LogisticRegression was fitted with feature names\n",
      "  warnings.warn(\n",
      "c:\\Users\\whxia\\AppData\\Local\\Programs\\Python\\Python38\\lib\\site-packages\\sklearn\\base.py:450: UserWarning: X does not have valid feature names, but LogisticRegression was fitted with feature names\n",
      "  warnings.warn(\n",
      "c:\\Users\\whxia\\AppData\\Local\\Programs\\Python\\Python38\\lib\\site-packages\\sklearn\\base.py:450: UserWarning: X does not have valid feature names, but LogisticRegression was fitted with feature names\n",
      "  warnings.warn(\n"
     ]
    },
    {
     "name": "stdout",
     "output_type": "stream",
     "text": [
      "1/1 [==============================] - 0s 22ms/step\n",
      "1/1 [==============================] - 0s 29ms/step\n"
     ]
    }
   ],
   "source": [
    "# Prediction time!\n",
    "treePred1 = treeModel.predict(freq1)\n",
    "treePred2 = treeModel.predict(freq2)\n",
    "treePred3 = treeModel.predict(freq3)\n",
    "treePred4 = treeModel.predict(freq4)\n",
    "\n",
    "lrPred1 = lrModel.predict(freq1)\n",
    "lrPred2 = lrModel.predict(freq2)\n",
    "lrPred3 = lrModel.predict(freq3)\n",
    "lrPred4 = lrModel.predict(freq4)\n",
    "\n",
    "nnPred1 = nnModel.predict(freq1)\n",
    "nnPred2 = nnModel.predict(freq2)\n",
    "nnPred3 = nnModel.predict(freq3)\n",
    "nnPred4 = nnModel.predict(freq4)"
   ]
  },
  {
   "cell_type": "code",
   "execution_count": 50,
   "metadata": {},
   "outputs": [
    {
     "name": "stdout",
     "output_type": "stream",
     "text": [
      "False\n",
      "True\n",
      "False\n",
      "False\n"
     ]
    }
   ],
   "source": [
    "# Logistic Regression\n",
    "for pred in [lrPred1, lrPred2, lrPred3, lrPred4]:\n",
    "    print(pred[0])\n",
    "    "
   ]
  },
  {
   "cell_type": "code",
   "execution_count": 51,
   "metadata": {},
   "outputs": [
    {
     "name": "stdout",
     "output_type": "stream",
     "text": [
      "True\n",
      "True\n",
      "True\n",
      "False\n"
     ]
    }
   ],
   "source": [
    "# Decision Tree\n",
    "for pred in [treePred1, treePred2, treePred3, treePred4]:\n",
    "    print(pred[0])"
   ]
  },
  {
   "cell_type": "code",
   "execution_count": 52,
   "metadata": {},
   "outputs": [
    {
     "name": "stdout",
     "output_type": "stream",
     "text": [
      "True\n",
      "True\n",
      "True\n",
      "False\n"
     ]
    }
   ],
   "source": [
    "# Neural Network\n",
    "for pred in [nnPred1, nnPred2, nnPred3, nnPred4]:\n",
    "    pred = pred[0][0]\n",
    "    if pred < 0.5:\n",
    "        print('False')\n",
    "    else:\n",
    "        print('True')"
   ]
  }
 ],
 "metadata": {
  "kernelspec": {
   "display_name": "Python 3.8.4 64-bit",
   "language": "python",
   "name": "python3"
  },
  "language_info": {
   "codemirror_mode": {
    "name": "ipython",
    "version": 3
   },
   "file_extension": ".py",
   "mimetype": "text/x-python",
   "name": "python",
   "nbconvert_exporter": "python",
   "pygments_lexer": "ipython3",
   "version": "3.8.4"
  },
  "orig_nbformat": 4,
  "vscode": {
   "interpreter": {
    "hash": "ca32836a1987366b47d214291519eca0c631ffd5c59fe36a5d0b417ed1ba3fda"
   }
  }
 },
 "nbformat": 4,
 "nbformat_minor": 2
}
